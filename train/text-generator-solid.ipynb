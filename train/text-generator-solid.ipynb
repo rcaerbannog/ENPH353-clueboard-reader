{
 "cells": [
  {
   "cell_type": "code",
   "execution_count": 2,
   "metadata": {},
   "outputs": [],
   "source": [
    "import cv2\n",
    "import numpy as np\n",
    "import os\n",
    "import random\n",
    "import string\n",
    "\n",
    "from random import randint\n",
    "from PIL import Image, ImageFont, ImageDraw\n",
    "import matplotlib.pyplot as plt"
   ]
  },
  {
   "cell_type": "markdown",
   "metadata": {},
   "source": [
    "Notes for later\n",
    "\n",
    "Font sizes (64*80)\n",
    "- 80 (11, -3)\n",
    "- 85 (11, -5)\n",
    "- 90 (10, -7)\n",
    "- 95 (9, -9)\n",
    "- 100 (7, -12)"
   ]
  },
  {
   "cell_type": "code",
   "execution_count": 3,
   "metadata": {},
   "outputs": [],
   "source": [
    "LETTER_IMG_DIM_X = 64\n",
    "LETTER_IMG_DIM_Y = 80\n",
    "LETTER_IMG_SHAPE = (LETTER_IMG_DIM_Y, LETTER_IMG_DIM_X)\n",
    "\n",
    "THRESHOLD_MIN = 10\n",
    "THRESHOLD_MAX = 255\n",
    "\n",
    "MAX_SHIFT = 3\n",
    "FONT_SIZES = [80, 85, 90, 95, 100]\n",
    "FONT_SIZE_LOCATIONS = [(11, -3), (11, -5), (10, -7), (9, -9), (7, -12)]\n",
    "THRESHOLDS = [1, 64, 128]\n",
    "\n",
    "# blank_letter = np.zeros(LETTER_IMG_SHAPE, dtype=np.uint8)\n",
    "# for i in range(26):\n",
    "#     letter = chr(ord('A') + i)\n",
    "#     for j in range(len(FONT_SIZES)):\n",
    "#         for k in range(len(THRESHOLDS)):\n",
    "#             blank_letter_pil = Image.fromarray(blank_letter)\n",
    "#             # Get a drawing context\n",
    "#             draw = ImageDraw.Draw(blank_letter_pil)\n",
    "#             shift = random.randint(-MAX_SHIFT, MAX_SHIFT)\n",
    "#             font_size_index = random.randint(0, len(FONT_SIZES) - 1)\n",
    "#             font_size = FONT_SIZES[font_size_index]\n",
    "#             font_location = FONT_SIZE_LOCATIONS[font_size_index]\n",
    "#             monospace = ImageFont.truetype(\"C:/Users/alexa/AppData/Local/Microsoft/Windows/Fonts/UbuntuMono-R.ttf\", \n",
    "#                                             font_size)\n",
    "#             draw.text(font_location, letter, fill=255, font=monospace)\n",
    "#             # Convert back to OpenCV image and save\n",
    "#             letter_img = np.array(blank_letter_pil)\n",
    "#             letter_img_thresh = cv2.inRange(letter_img, 64, 255)\n",
    "#             cv2.imwrite(os.path.join(\"train-letters/\", letter + \"/\", \n",
    "#                                  letter + str(j * len(THRESHOLDS) + k) + \".png\"), letter_img_thresh)"
   ]
  },
  {
   "cell_type": "code",
   "execution_count": null,
   "metadata": {},
   "outputs": [],
   "source": [
    "os.mkdir('train-letters')"
   ]
  },
  {
   "cell_type": "markdown",
   "metadata": {},
   "source": [
    "Demonstration: first draw ideal letters: size 90, threshold 64 (medium), centered and straight. See how that performs against actual SIFT images."
   ]
  },
  {
   "cell_type": "code",
   "execution_count": 6,
   "metadata": {},
   "outputs": [
    {
     "data": {
      "text/plain": [
       "<matplotlib.image.AxesImage at 0x1ebfb9dae90>"
      ]
     },
     "execution_count": 6,
     "metadata": {},
     "output_type": "execute_result"
    },
    {
     "data": {
      "image/png": "[encoded data removed]",
      "text/plain": [
       "<Figure size 640x480 with 1 Axes>"
      ]
     },
     "metadata": {},
     "output_type": "display_data"
    }
   ],
   "source": [
    "# Demonstration: generate ideal letter templates (font size 90, place (10, -7)). \n",
    "# Thresholding idk, maybe target middle (64) or use 'blur' of all values (no threshold -- so 64)\n",
    "letter = 'M'\n",
    "blank_letter = np.zeros(LETTER_IMG_SHAPE, dtype=np.uint8)\n",
    "blank_letter_pil = Image.fromarray(blank_letter)\n",
    "# Get a drawing context\n",
    "draw = ImageDraw.Draw(blank_letter_pil)\n",
    "font_size = 90\n",
    "font_location = (10, -7)\n",
    "monospace = ImageFont.truetype(\"C:/Users/alexa/AppData/Local/Microsoft/Windows/Fonts/UbuntuMono-R.ttf\", \n",
    "                                font_size)\n",
    "draw.text(font_location, letter, fill=255, font=monospace)\n",
    "# Convert back to OpenCV image and save\n",
    "letter_img = np.array(blank_letter_pil)\n",
    "letter_img_thresh = cv2.inRange(letter_img, 64, 255)\n",
    "cv2.imwrite(os.path.join(\"train-letters\", \"testLetter.png\"), letter_img_thresh)\n",
    "plt.imshow(letter_img_thresh)"
   ]
  },
  {
   "cell_type": "code",
   "execution_count": 7,
   "metadata": {},
   "outputs": [
    {
     "data": {
      "image/png": "[encoded data removed]",
      "text/plain": [
       "<Figure size 640x480 with 1 Axes>"
      ]
     },
     "metadata": {},
     "output_type": "display_data"
    }
   ],
   "source": [
    "for i in range(26):\n",
    "    # Demonstration: generate ideal letter templates (font size 90, place (10, -7))\n",
    "    letter = chr(ord('A') + i)\n",
    "    blank_letter = np.zeros(LETTER_IMG_SHAPE, dtype=np.uint8)\n",
    "    blank_letter_pil = Image.fromarray(blank_letter)\n",
    "    # Get a drawing context\n",
    "    draw = ImageDraw.Draw(blank_letter_pil)\n",
    "    font_size = 90\n",
    "    font_location = (10, -7)\n",
    "    monospace = ImageFont.truetype(\"C:/Users/alexa/AppData/Local/Microsoft/Windows/Fonts/UbuntuMono-R.ttf\", \n",
    "                                    font_size)\n",
    "    draw.text(font_location, letter, fill=255, font=monospace)\n",
    "    # Convert back to OpenCV image and save\n",
    "    letter_img = np.array(blank_letter_pil)\n",
    "    letter_img_thresh = cv2.inRange(letter_img, 64, 255)\n",
    "    cv2.imwrite(os.path.join(\"train-letters/\", f\"testLetter_{i}.png\"), letter_img_thresh)\n",
    "    plt.imshow(letter_img_thresh)"
   ]
  },
  {
   "cell_type": "code",
   "execution_count": 37,
   "metadata": {},
   "outputs": [],
   "source": [
    "# Delete the 'train-letters' directory before running.\n",
    "os.mkdir('train-letters/')\n",
    "for i in range(26):\n",
    "    letter = chr(ord('A') + i)\n",
    "    os.mkdir('train-letters/' + str(i))\n",
    "    for j in range(len(FONT_SIZES)):\n",
    "        # Demonstration: generate ideal letter templates (font size 90, place (10, -7))\n",
    "        blank_letter = np.zeros(LETTER_IMG_SHAPE, dtype=np.uint8)\n",
    "        blank_letter_pil = Image.fromarray(blank_letter)\n",
    "        # Get a drawing context\n",
    "        draw = ImageDraw.Draw(blank_letter_pil)\n",
    "        font_size = FONT_SIZES[j]\n",
    "        font_location = FONT_SIZE_LOCATIONS[j]\n",
    "        monospace = ImageFont.truetype(\"C:/Users/alexa/AppData/Local/Microsoft/Windows/Fonts/UbuntuMono-R.ttf\", \n",
    "                                        font_size)\n",
    "        draw.text(font_location, letter, fill=255, font=monospace)\n",
    "        # Convert back to OpenCV image and save\n",
    "        letter_img = np.array(blank_letter_pil)\n",
    "        letter_img_thresh = cv2.inRange(letter_img, 64, 255)\n",
    "        cv2.imwrite(os.path.join(\"train-letters\", str(i), f\"{letter}_{font_size}.png\"), letter_img_thresh)"
   ]
  },
  {
   "cell_type": "code",
   "execution_count": 36,
   "metadata": {},
   "outputs": [
    {
     "data": {
      "text/plain": [
       "26"
      ]
     },
     "execution_count": 36,
     "metadata": {},
     "output_type": "execute_result"
    }
   ],
   "source": [
    "val = [0,0,0,0,0,0,1,1,1,1,1,2,2,2,2,2,3,3,3,3,3,4,4,4,4,4]\n",
    "len(val)"
   ]
  },
  {
   "cell_type": "code",
   "execution_count": null,
   "metadata": {},
   "outputs": [],
   "source": []
  }
 ],
 "metadata": {
  "kernelspec": {
   "display_name": "enph353env",
   "language": "python",
   "name": "python3"
  },
  "language_info": {
   "codemirror_mode": {
    "name": "ipython",
    "version": 3
   },
   "file_extension": ".py",
   "mimetype": "text/x-python",
   "name": "python",
   "nbconvert_exporter": "python",
   "pygments_lexer": "ipython3",
   "version": "3.11.4"
  }
 },
 "nbformat": 4,
 "nbformat_minor": 2
}
