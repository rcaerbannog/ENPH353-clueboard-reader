{
 "cells": [
  {
   "cell_type": "code",
   "execution_count": 3,
   "metadata": {},
   "outputs": [
    {
     "name": "stdout",
     "output_type": "stream",
     "text": [
      "Using SIFT with min good threshold of: 20\n",
      "\n",
      "In folder crime-scare:\n",
      "0/28 images SIFTed, 28 failed.\n",
      "SIFTed images: []. (Please check if these are accurately transformed.)\n",
      "\n",
      "In folder size-three:\n",
      "3/44 images SIFTed, 41 failed.\n",
      "SIFTed images: ['testimg-040.jpg', 'testimg-041.jpg', 'testimg-043.jpg']. (Please check if these are accurately transformed.)\n",
      "\n",
      "In folder time-winter:\n",
      "1/35 images SIFTed, 34 failed.\n",
      "SIFTed images: ['testimg-034.jpg']. (Please check if these are accurately transformed.)\n",
      "\n",
      "In folder victim-kangaroo:\n",
      "2/30 images SIFTed, 28 failed.\n",
      "SIFTed images: ['testimg-026.jpg', 'testimg-028.jpg']. (Please check if these are accurately transformed.)\n",
      "\n"
     ]
    }
   ],
   "source": [
    "import sift_and_cnn as cnn\n",
    "import os\n",
    "import cv2 as cv\n",
    "\n",
    "folders = ['crime-scare', 'size-three', 'time-winter', 'victim-kangaroo']\n",
    "# Delete or wipe the outfolders before running\n",
    "\n",
    "print(f'Using SIFT with min good threshold of: {cnn.MIN_GOOD_MATCHES}\\n')\n",
    "\n",
    "for folder in folders:\n",
    "    outfolder = folder + \"-sifted\"\n",
    "    inpath = os.path.join('test-images', 'good-clues', folder)\n",
    "    outpath = os.path.join('test-images', 'good-clues', outfolder)\n",
    "    imgs = os.listdir(inpath)\n",
    "\n",
    "    try:\n",
    "        os.mkdir(os.path.join('test-images', 'good-clues', outfolder))\n",
    "    except OSError:\n",
    "        pass\n",
    "\n",
    "    num_successful = 0\n",
    "    successful = []\n",
    "    for img in imgs:\n",
    "        img_cv = cv.imread(os.path.join(inpath, img))\n",
    "        sifted_img = cnn.clueboard_img_from_frame(img_cv)\n",
    "        if sifted_img is not None:\n",
    "            cv.imwrite(os.path.join(outpath, img), sifted_img)\n",
    "            num_successful += 1\n",
    "            successful.append(img)\n",
    "\n",
    "    print(f'In folder {folder}:')\n",
    "    print(f'{num_successful}/{len(imgs)} images SIFTed, {len(imgs) - num_successful} failed.')\n",
    "    print(f'SIFTed images: {successful}. (Please check if these are accurately transformed.)\\n')"
   ]
  },
  {
   "cell_type": "code",
   "execution_count": null,
   "metadata": {},
   "outputs": [],
   "source": []
  },
  {
   "cell_type": "code",
   "execution_count": 5,
   "metadata": {},
   "outputs": [
    {
     "data": {
      "text/plain": [
       "['good_clues']"
      ]
     },
     "execution_count": 5,
     "metadata": {},
     "output_type": "execute_result"
    }
   ],
   "source": [
    "os.listdir('test-images/')"
   ]
  },
  {
   "cell_type": "code",
   "execution_count": null,
   "metadata": {},
   "outputs": [],
   "source": []
  }
 ],
 "metadata": {
  "kernelspec": {
   "display_name": ".enph353env",
   "language": "python",
   "name": "python3"
  },
  "language_info": {
   "codemirror_mode": {
    "name": "ipython",
    "version": 3
   },
   "file_extension": ".py",
   "mimetype": "text/x-python",
   "name": "python",
   "nbconvert_exporter": "python",
   "pygments_lexer": "ipython3",
   "version": "3.11.4"
  }
 },
 "nbformat": 4,
 "nbformat_minor": 2
}
