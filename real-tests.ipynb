{
 "cells": [
  {
   "cell_type": "code",
   "execution_count": 1,
   "metadata": {},
   "outputs": [
    {
     "name": "stdout",
     "output_type": "stream",
     "text": [
      "Using SIFT with min good threshold of: 10\n",
      "\n",
      "In folder crime-scare:\n",
      "1/28 images SIFTed, 27 failed.\n",
      "SIFTed images: ['testimg-025.jpg']. (Please check if these are accurately transformed.)\n",
      "\n",
      "In folder size-three:\n",
      "9/44 images SIFTed, 35 failed.\n",
      "SIFTed images: ['testimg-035.jpg', 'testimg-036.jpg', 'testimg-037.jpg', 'testimg-038.jpg', 'testimg-039.jpg', 'testimg-040.jpg', 'testimg-041.jpg', 'testimg-042.jpg', 'testimg-043.jpg']. (Please check if these are accurately transformed.)\n",
      "\n",
      "In folder time-winter:\n",
      "7/35 images SIFTed, 28 failed.\n",
      "SIFTed images: ['testimg-028.jpg', 'testimg-029.jpg', 'testimg-030.jpg', 'testimg-031.jpg', 'testimg-032.jpg', 'testimg-033.jpg', 'testimg-034.jpg']. (Please check if these are accurately transformed.)\n",
      "\n",
      "In folder victim-kangaroo:\n",
      "9/30 images SIFTed, 21 failed.\n",
      "SIFTed images: ['testimg-020.jpg', 'testimg-021.jpg', 'testimg-022.jpg', 'testimg-024.jpg', 'testimg-025.jpg', 'testimg-026.jpg', 'testimg-027.jpg', 'testimg-028.jpg', 'testimg-029.jpg']. (Please check if these are accurately transformed.)\n",
      "\n"
     ]
    }
   ],
   "source": [
    "import sift_and_cnn as cnn\n",
    "import os\n",
    "import cv2 as cv\n",
    "\n",
    "folders = ['crime-scare', 'size-three', 'time-winter', 'victim-kangaroo']\n",
    "# Delete or wipe the outfolders before running\n",
    "\n",
    "print(f'Using SIFT with min good threshold of: {cnn.MIN_GOOD_MATCHES}\\n')\n",
    "\n",
    "for folder in folders:\n",
    "    outfolder = folder + \"-sifted\"\n",
    "    inpath = os.path.join('test-images', 'good-clues', folder)\n",
    "    outpath = os.path.join('test-images', 'good-clues', outfolder)\n",
    "    imgs = os.listdir(inpath)\n",
    "\n",
    "    try:\n",
    "        os.mkdir(os.path.join('test-images', 'good-clues', outfolder))\n",
    "    except OSError:\n",
    "        pass\n",
    "\n",
    "    num_successful = 0\n",
    "    successful = []\n",
    "    for img in imgs:\n",
    "        img_cv = cv.imread(os.path.join(inpath, img))\n",
    "        sifted_img = cnn.clueboard_img_from_frame(img_cv)\n",
    "        if sifted_img is not None:\n",
    "            cv.imwrite(os.path.join(outpath, img), sifted_img)\n",
    "            num_successful += 1\n",
    "            successful.append(img)\n",
    "\n",
    "    print(f'In folder {folder}:')\n",
    "    print(f'{num_successful}/{len(imgs)} images SIFTed, {len(imgs) - num_successful} failed.')\n",
    "    print(f'SIFTed images: {successful}. (Please check if these are accurately transformed.)\\n')"
   ]
  },
  {
   "cell_type": "markdown",
   "metadata": {},
   "source": [
    "## Letter recognition testing\n",
    "Of all SIFTed images, which are intelligible?"
   ]
  },
  {
   "cell_type": "code",
   "execution_count": 9,
   "metadata": {},
   "outputs": [
    {
     "name": "stdout",
     "output_type": "stream",
     "text": [
      "In folder crime-scare:\n",
      "1/1 [==============================] - 0s 72ms/step\n",
      "1/1 [==============================] - 0s 75ms/step\n",
      "testimg-025.jpg: Type=IBBPVBVB, Value=SBVBBHYPBBEB\n",
      "\n",
      "In folder size-three:\n",
      "1/1 [==============================] - 0s 58ms/step\n",
      "testimg-035.jpg: Type=ERROR: TOO LARGE BOUNDING BOX DETECTED (252, 0, 88, 80), Value=YOOPBLJ\n",
      "1/1 [==============================] - 0s 65ms/step\n",
      "1/1 [==============================] - 0s 73ms/step\n",
      "testimg-036.jpg: Type=SIZE, Value=THREEI\n",
      "1/1 [==============================] - 0s 58ms/step\n",
      "testimg-037.jpg: Type=ERROR: TOO LARGE BOUNDING BOX DETECTED (231, 0, 109, 80), Value=BBYMCCJ\n",
      "1/1 [==============================] - 0s 66ms/step\n",
      "1/1 [==============================] - 0s 62ms/step\n",
      "testimg-038.jpg: Type=SIZEI, Value=THREEI\n",
      "1/1 [==============================] - 0s 53ms/step\n",
      "1/1 [==============================] - 0s 49ms/step\n",
      "testimg-039.jpg: Type=SIZEI, Value=THREEI\n",
      "1/1 [==============================] - 0s 58ms/step\n",
      "1/1 [==============================] - 0s 52ms/step\n",
      "testimg-040.jpg: Type=SIZE, Value=THREE\n",
      "1/1 [==============================] - 0s 65ms/step\n",
      "1/1 [==============================] - 0s 49ms/step\n",
      "testimg-041.jpg: Type=SIZEI, Value=THREEI\n",
      "1/1 [==============================] - 0s 60ms/step\n",
      "1/1 [==============================] - 0s 59ms/step\n",
      "testimg-042.jpg: Type=SIZEQ, Value=THREEI\n",
      "1/1 [==============================] - 0s 59ms/step\n",
      "1/1 [==============================] - 0s 50ms/step\n",
      "testimg-043.jpg: Type=SIZE, Value=THREE\n",
      "\n",
      "In folder time-winter:\n",
      "1/1 [==============================] - 0s 69ms/step\n",
      "1/1 [==============================] - 0s 65ms/step\n",
      "testimg-028.jpg: Type=BBIYMEI, Value=HBITIBBBBEPBBI\n",
      "1/1 [==============================] - 0s 75ms/step\n",
      "1/1 [==============================] - 0s 58ms/step\n",
      "testimg-029.jpg: Type=TIYF, Value=WINBBTFPBJ\n",
      "1/1 [==============================] - 0s 42ms/step\n",
      "1/1 [==============================] - 0s 53ms/step\n",
      "testimg-030.jpg: Type=TIMNEI, Value=WBINTERI\n",
      "1/1 [==============================] - 0s 81ms/step\n",
      "1/1 [==============================] - 0s 49ms/step\n",
      "testimg-031.jpg: Type=TIME, Value=WINTER\n",
      "1/1 [==============================] - 0s 52ms/step\n",
      "1/1 [==============================] - 0s 58ms/step\n",
      "testimg-032.jpg: Type=TIME, Value=WINTER\n",
      "1/1 [==============================] - 0s 65ms/step\n",
      "1/1 [==============================] - 0s 56ms/step\n",
      "testimg-033.jpg: Type=TIME, Value=WINTERB\n",
      "1/1 [==============================] - 0s 57ms/step\n",
      "1/1 [==============================] - 0s 158ms/step\n",
      "testimg-034.jpg: Type=TIME, Value=WINTER\n",
      "\n",
      "In folder victim-kangaroo:\n",
      "1/1 [==============================] - 0s 62ms/step\n",
      "1/1 [==============================] - 0s 65ms/step\n",
      "testimg-020.jpg: Type=NVBBBBBBIBBM, Value=VBHFYYBBIBBRHNFBBBBBBBBYBBBBJ\n",
      "1/1 [==============================] - 0s 67ms/step\n",
      "1/1 [==============================] - 0s 74ms/step\n",
      "testimg-021.jpg: Type=BYBBBIBBBTBIVQ, Value=KPBIBIIBRAVBBBBBBBXBNNI\n",
      "1/1 [==============================] - 0s 86ms/step\n",
      "1/1 [==============================] - 0s 73ms/step\n",
      "testimg-022.jpg: Type=NVYVYBVBIYYMBI, Value=KBABTJTBJBBARBYBBBBYBBBBQNBBB\n",
      "1/1 [==============================] - 0s 50ms/step\n",
      "testimg-024.jpg: Type=NYYICIIMI, Value=ERROR: TOO LARGE BOUNDING BOX DETECTED (10, 16, 85, 57)\n",
      "1/1 [==============================] - 0s 58ms/step\n",
      "testimg-025.jpg: Type=VICIIM, Value=ERROR: TOO LARGE BOUNDING BOX DETECTED (12, 14, 83, 55)\n",
      "1/1 [==============================] - 0s 53ms/step\n",
      "1/1 [==============================] - 0s 52ms/step\n",
      "testimg-026.jpg: Type=VICTIM, Value=KANGAROO\n",
      "1/1 [==============================] - 0s 57ms/step\n",
      "1/1 [==============================] - 0s 66ms/step\n",
      "testimg-027.jpg: Type=VICTIMI, Value=YANGAROOB\n",
      "1/1 [==============================] - 0s 50ms/step\n",
      "1/1 [==============================] - 0s 57ms/step\n",
      "testimg-028.jpg: Type=VICTIM, Value=KANGAROO\n",
      "1/1 [==============================] - 0s 58ms/step\n",
      "testimg-029.jpg: Type=VICTIMI, Value=ERROR: TOO LARGE BOUNDING BOX DETECTED (10, 18, 86, 60)\n",
      "\n"
     ]
    }
   ],
   "source": [
    "import numpy as np\n",
    "\n",
    "for folder in folders:\n",
    "    inpath = os.path.join('test-images', 'good-clues', folder + '-sifted')\n",
    "    typepath = os.path.join('test-images', 'good-clues', folder + '-type')\n",
    "    valuepath = os.path.join('test-images', 'good-clues', folder + '-value')\n",
    "    try:\n",
    "        os.mkdir(typepath)\n",
    "        os.mkdir(valuepath)\n",
    "    except OSError:\n",
    "        pass\n",
    "\n",
    "    imgs = os.listdir(inpath)\n",
    "    print(f'In folder {folder}:')\n",
    "    for img in imgs:\n",
    "        img_cv = cv.imread(os.path.join(inpath, img))\n",
    "        clue_type, clue_value = cnn.clue_type_and_value(img_cv)\n",
    "        print(f'{img}: Type={clue_type}, Value={clue_value}')\n",
    "        \n",
    "        clue_type_img = img_cv[35:115, 240:580]\n",
    "        cv.imwrite(os.path.join(typepath, img), clue_type_img)\n",
    "        clue_value_img = img_cv[255:335, 20:580]\n",
    "        cv.imwrite(os.path.join(valuepath, img), clue_value_img)\n",
    "    print('')"
   ]
  },
  {
   "cell_type": "code",
   "execution_count": 5,
   "metadata": {},
   "outputs": [
    {
     "data": {
      "text/plain": [
       "['good_clues']"
      ]
     },
     "execution_count": 5,
     "metadata": {},
     "output_type": "execute_result"
    }
   ],
   "source": [
    "os.listdir('test-images/')"
   ]
  },
  {
   "cell_type": "code",
   "execution_count": null,
   "metadata": {},
   "outputs": [],
   "source": []
  }
 ],
 "metadata": {
  "kernelspec": {
   "display_name": ".enph353env",
   "language": "python",
   "name": "python3"
  },
  "language_info": {
   "codemirror_mode": {
    "name": "ipython",
    "version": 3
   },
   "file_extension": ".py",
   "mimetype": "text/x-python",
   "name": "python",
   "nbconvert_exporter": "python",
   "pygments_lexer": "ipython3",
   "version": "3.11.4"
  }
 },
 "nbformat": 4,
 "nbformat_minor": 2
}
